{
  "nbformat": 4,
  "nbformat_minor": 0,
  "metadata": {
    "colab": {
      "name": "NLP_A2.ipynb",
      "provenance": [],
      "collapsed_sections": []
    },
    "kernelspec": {
      "name": "python3",
      "display_name": "Python 3"
    },
    "accelerator": "GPU"
  },
  "cells": [
    {
      "cell_type": "markdown",
      "metadata": {
        "id": "xIAguQ2QBJnI",
        "colab_type": "text"
      },
      "source": [
        "# Assignment-3"
      ]
    },
    {
      "cell_type": "markdown",
      "metadata": {
        "id": "RXSMM6j1BSt8",
        "colab_type": "text"
      },
      "source": [
        "## Import Libraries"
      ]
    },
    {
      "cell_type": "code",
      "metadata": {
        "id": "neMy3Zqyi-T6",
        "colab_type": "code",
        "colab": {}
      },
      "source": [
        "import numpy as np\n",
        "import pandas as pd\n",
        "import matplotlib.pyplot as plt"
      ],
      "execution_count": 0,
      "outputs": []
    },
    {
      "cell_type": "code",
      "metadata": {
        "id": "rtU_kvlimWRW",
        "colab_type": "code",
        "colab": {
          "base_uri": "https://localhost:8080/",
          "height": 80
        },
        "outputId": "04b34310-3e1a-4b28-fdce-ea8038f90189"
      },
      "source": [
        "from keras.preprocessing import sequence\n",
        "from keras.models import Sequential\n",
        "from keras.layers import Dense, Dropout, Activation, Embedding, LSTM, Conv1D, MaxPooling1D"
      ],
      "execution_count": 2,
      "outputs": [
        {
          "output_type": "stream",
          "text": [
            "Using TensorFlow backend.\n"
          ],
          "name": "stderr"
        },
        {
          "output_type": "display_data",
          "data": {
            "text/html": [
              "<p style=\"color: red;\">\n",
              "The default version of TensorFlow in Colab will soon switch to TensorFlow 2.x.<br>\n",
              "We recommend you <a href=\"https://www.tensorflow.org/guide/migrate\" target=\"_blank\">upgrade</a> now \n",
              "or ensure your notebook will continue to use TensorFlow 1.x via the <code>%tensorflow_version 1.x</code> magic:\n",
              "<a href=\"https://colab.research.google.com/notebooks/tensorflow_version.ipynb\" target=\"_blank\">more info</a>.</p>\n"
            ],
            "text/plain": [
              "<IPython.core.display.HTML object>"
            ]
          },
          "metadata": {
            "tags": []
          }
        }
      ]
    },
    {
      "cell_type": "markdown",
      "metadata": {
        "id": "X8tQfSNrBdXA",
        "colab_type": "text"
      },
      "source": [
        "## Read the Data from the text files"
      ]
    },
    {
      "cell_type": "code",
      "metadata": {
        "id": "5D9YCtCokdex",
        "colab_type": "code",
        "colab": {}
      },
      "source": [
        "TRAIN_DATA_PATH = \"train.txt\"\n",
        "TEST_DATA_PATH = \"test.txt\"\n",
        "\n",
        "\n",
        "train_tweets = open(TRAIN_DATA_PATH, 'r').readlines()\n",
        "test_tweets = open(TEST_DATA_PATH, 'r').readlines()"
      ],
      "execution_count": 0,
      "outputs": []
    },
    {
      "cell_type": "code",
      "metadata": {
        "id": "DEpAHHoXklVJ",
        "colab_type": "code",
        "colab": {}
      },
      "source": [
        "train_data = {}\n",
        "for i in train_tweets:\n",
        "    line = i[:-1].split(\"\\t\")\n",
        "    if(len(line) > 1):\n",
        "        if(line[0] == \"meta\"):\n",
        "            current_tweet = line[1]\n",
        "            train_data[current_tweet] = [[], line[2]]\n",
        "        else:\n",
        "            train_data[current_tweet][0].append((line[0], line[1]))\n",
        "            \n",
        "            \n",
        "test_data = {}\n",
        "for i in test_tweets:\n",
        "    line = i[:-1].split(\"\\t\")\n",
        "    if(len(line) > 1):\n",
        "        if(line[0] == \"meta\"):\n",
        "            current_tweet = line[1]\n",
        "            test_data[current_tweet] = [[], line[2]]\n",
        "        else:\n",
        "            test_data[current_tweet][0].append((line[0], line[1]))"
      ],
      "execution_count": 0,
      "outputs": []
    },
    {
      "cell_type": "markdown",
      "metadata": {
        "id": "C8ktWPTRBkiV",
        "colab_type": "text"
      },
      "source": [
        "## Get the list of all words (Build the vocabulary)"
      ]
    },
    {
      "cell_type": "code",
      "metadata": {
        "id": "EPBKpb1lmmvT",
        "colab_type": "code",
        "colab": {}
      },
      "source": [
        "words = []\n",
        "for i in train_data.keys():\n",
        "  for j in np.array(train_data[i][0])[:, 0]:\n",
        "    if(j not in words):\n",
        "      words.append(j)\n",
        "\n",
        "for i in test_data.keys():\n",
        "  for j in np.array(test_data[i][0])[:, 0]:\n",
        "    if(j not in words):\n",
        "      words.append(j)"
      ],
      "execution_count": 0,
      "outputs": []
    },
    {
      "cell_type": "code",
      "metadata": {
        "id": "o_2TRW4PnLg4",
        "colab_type": "code",
        "colab": {
          "base_uri": "https://localhost:8080/",
          "height": 34
        },
        "outputId": "1857eab1-d814-4c35-a34c-0c4d85fa2f8d"
      },
      "source": [
        "print(\"Total number of unique words: \", len(words))"
      ],
      "execution_count": 6,
      "outputs": [
        {
          "output_type": "stream",
          "text": [
            "Total number of unique words:  66950\n"
          ],
          "name": "stdout"
        }
      ]
    },
    {
      "cell_type": "markdown",
      "metadata": {
        "id": "Qq5Xi6GvB8p9",
        "colab_type": "text"
      },
      "source": [
        "## Preprocess the Data"
      ]
    },
    {
      "cell_type": "code",
      "metadata": {
        "id": "NNUNpLd3q1Ow",
        "colab_type": "code",
        "colab": {}
      },
      "source": [
        "X = []\n",
        "y = []\n",
        "x_test = []\n",
        "y_test = []\n",
        "for i in train_data.keys():\n",
        "    X.append(np.array(list(map(lambda x:words.index(x)+1, np.array(train_data[i][0])[:, 0]))))\n",
        "    y.append([train_data[i][1]])\n",
        "\n",
        "for i in test_data.keys():\n",
        "    x_test.append(np.array(list(map(lambda x:words.index(x)+1, np.array(test_data[i][0])[:, 0]))))\n",
        "    y_test.append([test_data[i][1]])\n",
        "\n",
        "X = np.array(X)\n",
        "y = np.array(y)\n",
        "x_test = np.array(x_test)\n",
        "y_test = np.array(y_test)"
      ],
      "execution_count": 0,
      "outputs": []
    },
    {
      "cell_type": "code",
      "metadata": {
        "id": "YpO9_2Xind1O",
        "colab_type": "code",
        "colab": {
          "base_uri": "https://localhost:8080/",
          "height": 51
        },
        "outputId": "2b5c5f9b-3e78-48b2-a372-598d6cdffb7d"
      },
      "source": [
        "from sklearn.preprocessing import OneHotEncoder\n",
        "enc = OneHotEncoder(handle_unknown='ignore')\n",
        "y = enc.fit_transform(y).toarray()\n",
        "y_test = enc.transform(y_test).toarray()\n",
        "# from sklearn.model_selection import train_test_split\n",
        "# x_train, x_val, y_train, y_val = train_test_split(X, y, test_size=0.2)\n",
        "x_train = X\n",
        "y_train = y\n",
        "\n",
        "x_train = sequence.pad_sequences(x_train, maxlen = 100)\n",
        "x_test = sequence.pad_sequences(x_test, maxlen = 100)\n",
        "\n",
        "print('x_train shape:', x_train.shape)\n",
        "print('x_test shape:', x_test.shape)"
      ],
      "execution_count": 8,
      "outputs": [
        {
          "output_type": "stream",
          "text": [
            "x_train shape: (15131, 100)\n",
            "x_test shape: (1869, 100)\n"
          ],
          "name": "stdout"
        }
      ]
    },
    {
      "cell_type": "markdown",
      "metadata": {
        "id": "We2fdturCdPA",
        "colab_type": "text"
      },
      "source": [
        "## Build the Model"
      ]
    },
    {
      "cell_type": "code",
      "metadata": {
        "id": "08xaGBL7ubHm",
        "colab_type": "code",
        "colab": {}
      },
      "source": [
        "batch_size = 30\n",
        "epochs = 5"
      ],
      "execution_count": 0,
      "outputs": []
    },
    {
      "cell_type": "code",
      "metadata": {
        "id": "Fw9YAd9YjO-2",
        "colab_type": "code",
        "colab": {
          "base_uri": "https://localhost:8080/",
          "height": 836
        },
        "outputId": "d85786a8-62ce-49e5-8305-eabfb2d0213a"
      },
      "source": [
        "model = Sequential()\n",
        "\n",
        "model.add(Embedding(20000, 128, input_length = 100))\n",
        "model.add(Dropout(0.5))\n",
        "\n",
        "model.add(Conv1D(filters = 64, kernel_size = 5, padding = 'valid', activation = 'relu', strides = 1))\n",
        "model.add(MaxPooling1D(pool_size = 4))\n",
        "model.add(Dropout(0.5))\n",
        "\n",
        "model.add(Conv1D(filters = 64, kernel_size = 5, padding = 'valid', activation = 'relu', strides = 1))\n",
        "model.add(MaxPooling1D(pool_size = 4))\n",
        "model.add(Dropout(0.5))\n",
        "\n",
        "model.add(LSTM(70, dropout=0.2, recurrent_dropout=0.2))\n",
        "model.add(Dense(3))\n",
        "\n",
        "model.add(Activation('sigmoid'))\n",
        "\n",
        "model.compile(loss='categorical_crossentropy',\n",
        "              optimizer='adam',\n",
        "              metrics=['accuracy'])\n",
        "model.summary()"
      ],
      "execution_count": 10,
      "outputs": [
        {
          "output_type": "stream",
          "text": [
            "WARNING:tensorflow:From /usr/local/lib/python3.6/dist-packages/keras/backend/tensorflow_backend.py:66: The name tf.get_default_graph is deprecated. Please use tf.compat.v1.get_default_graph instead.\n",
            "\n",
            "WARNING:tensorflow:From /usr/local/lib/python3.6/dist-packages/keras/backend/tensorflow_backend.py:541: The name tf.placeholder is deprecated. Please use tf.compat.v1.placeholder instead.\n",
            "\n",
            "WARNING:tensorflow:From /usr/local/lib/python3.6/dist-packages/keras/backend/tensorflow_backend.py:4432: The name tf.random_uniform is deprecated. Please use tf.random.uniform instead.\n",
            "\n",
            "WARNING:tensorflow:From /usr/local/lib/python3.6/dist-packages/keras/backend/tensorflow_backend.py:148: The name tf.placeholder_with_default is deprecated. Please use tf.compat.v1.placeholder_with_default instead.\n",
            "\n",
            "WARNING:tensorflow:From /usr/local/lib/python3.6/dist-packages/keras/backend/tensorflow_backend.py:3733: calling dropout (from tensorflow.python.ops.nn_ops) with keep_prob is deprecated and will be removed in a future version.\n",
            "Instructions for updating:\n",
            "Please use `rate` instead of `keep_prob`. Rate should be set to `rate = 1 - keep_prob`.\n",
            "WARNING:tensorflow:From /usr/local/lib/python3.6/dist-packages/keras/backend/tensorflow_backend.py:4267: The name tf.nn.max_pool is deprecated. Please use tf.nn.max_pool2d instead.\n",
            "\n",
            "WARNING:tensorflow:From /usr/local/lib/python3.6/dist-packages/keras/optimizers.py:793: The name tf.train.Optimizer is deprecated. Please use tf.compat.v1.train.Optimizer instead.\n",
            "\n",
            "WARNING:tensorflow:From /usr/local/lib/python3.6/dist-packages/keras/backend/tensorflow_backend.py:3576: The name tf.log is deprecated. Please use tf.math.log instead.\n",
            "\n",
            "Model: \"sequential_1\"\n",
            "_________________________________________________________________\n",
            "Layer (type)                 Output Shape              Param #   \n",
            "=================================================================\n",
            "embedding_1 (Embedding)      (None, 100, 128)          2560000   \n",
            "_________________________________________________________________\n",
            "dropout_1 (Dropout)          (None, 100, 128)          0         \n",
            "_________________________________________________________________\n",
            "conv1d_1 (Conv1D)            (None, 96, 64)            41024     \n",
            "_________________________________________________________________\n",
            "max_pooling1d_1 (MaxPooling1 (None, 24, 64)            0         \n",
            "_________________________________________________________________\n",
            "dropout_2 (Dropout)          (None, 24, 64)            0         \n",
            "_________________________________________________________________\n",
            "conv1d_2 (Conv1D)            (None, 20, 64)            20544     \n",
            "_________________________________________________________________\n",
            "max_pooling1d_2 (MaxPooling1 (None, 5, 64)             0         \n",
            "_________________________________________________________________\n",
            "dropout_3 (Dropout)          (None, 5, 64)             0         \n",
            "_________________________________________________________________\n",
            "lstm_1 (LSTM)                (None, 70)                37800     \n",
            "_________________________________________________________________\n",
            "dense_1 (Dense)              (None, 3)                 213       \n",
            "_________________________________________________________________\n",
            "activation_1 (Activation)    (None, 3)                 0         \n",
            "=================================================================\n",
            "Total params: 2,659,581\n",
            "Trainable params: 2,659,581\n",
            "Non-trainable params: 0\n",
            "_________________________________________________________________\n"
          ],
          "name": "stdout"
        }
      ]
    },
    {
      "cell_type": "code",
      "metadata": {
        "id": "WXuYH80fjvr0",
        "colab_type": "code",
        "colab": {
          "base_uri": "https://localhost:8080/",
          "height": 1000
        },
        "outputId": "fba77f0f-5116-4976-ee9f-e1432f10550a"
      },
      "source": [
        "print('Train...')\n",
        "history = model.fit(x_train, y_train,\n",
        "          batch_size=batch_size,\n",
        "          epochs=5,\n",
        "          validation_data=(x_test, y_test))\n",
        "print(history.history.keys())\n",
        "#  \"Accuracy\"\n",
        "plt.plot(history.history['acc'])\n",
        "plt.plot(history.history['val_acc'])\n",
        "plt.title('model accuracy')\n",
        "plt.ylabel('accuracy')\n",
        "plt.xlabel('epoch')\n",
        "plt.legend(['train', 'validation'], loc='upper left')\n",
        "plt.show()\n",
        "\n",
        "# \"Loss\"\n",
        "plt.plot(history.history['loss'])\n",
        "plt.plot(history.history['val_loss'])\n",
        "plt.title('model loss')\n",
        "plt.ylabel('loss')\n",
        "plt.xlabel('epoch')\n",
        "plt.legend(['train', 'validation'], loc='upper left')\n",
        "plt.show()\n",
        "score, acc = model.evaluate(x_test, y_test, batch_size=batch_size)\n",
        "print('Test score:', score)\n",
        "print('Test accuracy:', acc)"
      ],
      "execution_count": 11,
      "outputs": [
        {
          "output_type": "stream",
          "text": [
            "Train...\n",
            "WARNING:tensorflow:From /usr/local/lib/python3.6/dist-packages/tensorflow_core/python/ops/math_grad.py:1424: where (from tensorflow.python.ops.array_ops) is deprecated and will be removed in a future version.\n",
            "Instructions for updating:\n",
            "Use tf.where in 2.0, which has the same broadcast rule as np.where\n",
            "WARNING:tensorflow:From /usr/local/lib/python3.6/dist-packages/keras/backend/tensorflow_backend.py:1033: The name tf.assign_add is deprecated. Please use tf.compat.v1.assign_add instead.\n",
            "\n",
            "WARNING:tensorflow:From /usr/local/lib/python3.6/dist-packages/keras/backend/tensorflow_backend.py:1020: The name tf.assign is deprecated. Please use tf.compat.v1.assign instead.\n",
            "\n",
            "WARNING:tensorflow:From /usr/local/lib/python3.6/dist-packages/keras/backend/tensorflow_backend.py:3005: The name tf.Session is deprecated. Please use tf.compat.v1.Session instead.\n",
            "\n",
            "Train on 15131 samples, validate on 1869 samples\n",
            "Epoch 1/5\n",
            "WARNING:tensorflow:From /usr/local/lib/python3.6/dist-packages/keras/backend/tensorflow_backend.py:190: The name tf.get_default_session is deprecated. Please use tf.compat.v1.get_default_session instead.\n",
            "\n",
            "WARNING:tensorflow:From /usr/local/lib/python3.6/dist-packages/keras/backend/tensorflow_backend.py:197: The name tf.ConfigProto is deprecated. Please use tf.compat.v1.ConfigProto instead.\n",
            "\n",
            "WARNING:tensorflow:From /usr/local/lib/python3.6/dist-packages/keras/backend/tensorflow_backend.py:207: The name tf.global_variables is deprecated. Please use tf.compat.v1.global_variables instead.\n",
            "\n",
            "WARNING:tensorflow:From /usr/local/lib/python3.6/dist-packages/keras/backend/tensorflow_backend.py:216: The name tf.is_variable_initialized is deprecated. Please use tf.compat.v1.is_variable_initialized instead.\n",
            "\n",
            "WARNING:tensorflow:From /usr/local/lib/python3.6/dist-packages/keras/backend/tensorflow_backend.py:223: The name tf.variables_initializer is deprecated. Please use tf.compat.v1.variables_initializer instead.\n",
            "\n",
            "15131/15131 [==============================] - 13s 873us/step - loss: 0.9832 - acc: 0.4742 - val_loss: 0.9681 - val_acc: 0.5201\n",
            "Epoch 2/5\n",
            "15131/15131 [==============================] - 9s 583us/step - loss: 0.8148 - acc: 0.6271 - val_loss: 0.9683 - val_acc: 0.5597\n",
            "Epoch 3/5\n",
            "15131/15131 [==============================] - 9s 583us/step - loss: 0.7104 - acc: 0.6967 - val_loss: 0.9945 - val_acc: 0.5570\n",
            "Epoch 4/5\n",
            "15131/15131 [==============================] - 9s 585us/step - loss: 0.6294 - acc: 0.7430 - val_loss: 1.0452 - val_acc: 0.5511\n",
            "Epoch 5/5\n",
            "15131/15131 [==============================] - 9s 610us/step - loss: 0.5593 - acc: 0.7821 - val_loss: 1.1246 - val_acc: 0.5367\n",
            "dict_keys(['val_loss', 'val_acc', 'loss', 'acc'])\n"
          ],
          "name": "stdout"
        },
        {
          "output_type": "display_data",
          "data": {
            "image/png": "[encoded data removed]",
            "text/plain": [
              "<Figure size 432x288 with 1 Axes>"
            ]
          },
          "metadata": {
            "tags": []
          }
        },
        {
          "output_type": "display_data",
          "data": {
            "image/png": "[encoded data removed]",
            "text/plain": [
              "<Figure size 432x288 with 1 Axes>"
            ]
          },
          "metadata": {
            "tags": []
          }
        },
        {
          "output_type": "stream",
          "text": [
            "1869/1869 [==============================] - 0s 190us/step\n",
            "Test score: 1.1245573720809545\n",
            "Test accuracy: 0.5366506209151511\n"
          ],
          "name": "stdout"
        }
      ]
    },
    {
      "cell_type": "code",
      "metadata": {
        "id": "5utEWsfCl4ji",
        "colab_type": "code",
        "colab": {
          "base_uri": "https://localhost:8080/",
          "height": 680
        },
        "outputId": "08ba8a9e-e095-4858-d633-74b512e7ad93"
      },
      "source": [
        "model2 = Sequential()\n",
        "model2.add(Embedding(20000, 128, input_length = 100))\n",
        "model2.add(LSTM(128, dropout=0.2, recurrent_dropout=0.2))\n",
        "model2.add(Dense(64, activation='relu'))\n",
        "model2.add(Dropout(0.5))\n",
        "model2.add(Dense(3, activation='sigmoid'))\n",
        "\n",
        "\n",
        "model2.compile(loss='categorical_crossentropy',\n",
        "              optimizer='adam',\n",
        "              metrics=['accuracy'])\n",
        "model2.summary()\n",
        "\n",
        "print('Train...')\n",
        "model2.fit(x_train, y_train,\n",
        "          batch_size=batch_size,\n",
        "          epochs=8,\n",
        "          validation_data=(x_test, y_test))\n",
        "score, acc = model.evaluate(x_test, y_test,\n",
        "                            batch_size=batch_size)\n",
        "print('Test score:', score)\n",
        "print('Test accuracy:', acc)"
      ],
      "execution_count": 12,
      "outputs": [
        {
          "output_type": "stream",
          "text": [
            "Model: \"sequential_2\"\n",
            "_________________________________________________________________\n",
            "Layer (type)                 Output Shape              Param #   \n",
            "=================================================================\n",
            "embedding_2 (Embedding)      (None, 100, 128)          2560000   \n",
            "_________________________________________________________________\n",
            "lstm_2 (LSTM)                (None, 128)               131584    \n",
            "_________________________________________________________________\n",
            "dense_2 (Dense)              (None, 64)                8256      \n",
            "_________________________________________________________________\n",
            "dropout_4 (Dropout)          (None, 64)                0         \n",
            "_________________________________________________________________\n",
            "dense_3 (Dense)              (None, 3)                 195       \n",
            "=================================================================\n",
            "Total params: 2,700,035\n",
            "Trainable params: 2,700,035\n",
            "Non-trainable params: 0\n",
            "_________________________________________________________________\n",
            "Train...\n",
            "Train on 15131 samples, validate on 1869 samples\n",
            "Epoch 1/8\n",
            "15131/15131 [==============================] - 96s 6ms/step - loss: 0.9502 - acc: 0.5178 - val_loss: 0.9706 - val_acc: 0.5131\n",
            "Epoch 2/8\n",
            "15131/15131 [==============================] - 94s 6ms/step - loss: 0.7655 - acc: 0.6622 - val_loss: 0.9992 - val_acc: 0.5377\n",
            "Epoch 3/8\n",
            "15131/15131 [==============================] - 93s 6ms/step - loss: 0.6050 - acc: 0.7549 - val_loss: 1.1290 - val_acc: 0.5313\n",
            "Epoch 4/8\n",
            "15131/15131 [==============================] - 92s 6ms/step - loss: 0.4669 - acc: 0.8239 - val_loss: 1.3042 - val_acc: 0.5286\n",
            "Epoch 5/8\n",
            "15131/15131 [==============================] - 91s 6ms/step - loss: 0.3685 - acc: 0.8639 - val_loss: 1.5678 - val_acc: 0.5243\n",
            "Epoch 6/8\n",
            "15131/15131 [==============================] - 91s 6ms/step - loss: 0.2954 - acc: 0.8945 - val_loss: 1.5842 - val_acc: 0.5206\n",
            "Epoch 7/8\n",
            "15131/15131 [==============================] - 92s 6ms/step - loss: 0.2423 - acc: 0.9175 - val_loss: 1.7907 - val_acc: 0.5083\n",
            "Epoch 8/8\n",
            "15131/15131 [==============================] - 92s 6ms/step - loss: 0.2014 - acc: 0.9307 - val_loss: 2.0401 - val_acc: 0.5136\n",
            "1869/1869 [==============================] - 0s 168us/step\n",
            "Test score: 1.1245573720809545\n",
            "Test accuracy: 0.5366506209151511\n"
          ],
          "name": "stdout"
        }
      ]
    },
    {
      "cell_type": "code",
      "metadata": {
        "id": "eiVkIC_IPxEK",
        "colab_type": "code",
        "colab": {
          "base_uri": "https://localhost:8080/",
          "height": 612
        },
        "outputId": "d88a5dae-01cf-4167-8325-b9b61d38e7fb"
      },
      "source": [
        "model3 = Sequential()\n",
        "model3.add(Embedding(20000, 128, input_length = 100))\n",
        "model3.add(LSTM(128, dropout=0.2, recurrent_dropout=0.2))\n",
        "model3.add(Dense(3, activation='sigmoid'))\n",
        "\n",
        "\n",
        "model3.compile(loss='categorical_crossentropy',\n",
        "              optimizer='adam',\n",
        "              metrics=['accuracy'])\n",
        "model3.summary()\n",
        "\n",
        "print('Train...')\n",
        "model3.fit(x_train, y_train,\n",
        "          batch_size=batch_size,\n",
        "          epochs=8,\n",
        "          validation_data=(x_test, y_test))\n",
        "score, acc = model.evaluate(x_test, y_test,\n",
        "                            batch_size=batch_size)\n",
        "print('Test score:', score)\n",
        "print('Test accuracy:', acc)"
      ],
      "execution_count": 13,
      "outputs": [
        {
          "output_type": "stream",
          "text": [
            "Model: \"sequential_3\"\n",
            "_________________________________________________________________\n",
            "Layer (type)                 Output Shape              Param #   \n",
            "=================================================================\n",
            "embedding_3 (Embedding)      (None, 100, 128)          2560000   \n",
            "_________________________________________________________________\n",
            "lstm_3 (LSTM)                (None, 128)               131584    \n",
            "_________________________________________________________________\n",
            "dense_4 (Dense)              (None, 3)                 387       \n",
            "=================================================================\n",
            "Total params: 2,691,971\n",
            "Trainable params: 2,691,971\n",
            "Non-trainable params: 0\n",
            "_________________________________________________________________\n",
            "Train...\n",
            "Train on 15131 samples, validate on 1869 samples\n",
            "Epoch 1/8\n",
            "15131/15131 [==============================] - 94s 6ms/step - loss: 0.9354 - acc: 0.5273 - val_loss: 0.9908 - val_acc: 0.5179\n",
            "Epoch 2/8\n",
            "15131/15131 [==============================] - 92s 6ms/step - loss: 0.7476 - acc: 0.6686 - val_loss: 0.9785 - val_acc: 0.5500\n",
            "Epoch 3/8\n",
            "15131/15131 [==============================] - 91s 6ms/step - loss: 0.5860 - acc: 0.7604 - val_loss: 1.1100 - val_acc: 0.5457\n",
            "Epoch 4/8\n",
            "15131/15131 [==============================] - 91s 6ms/step - loss: 0.4517 - acc: 0.8246 - val_loss: 1.2589 - val_acc: 0.5217\n",
            "Epoch 5/8\n",
            "15131/15131 [==============================] - 90s 6ms/step - loss: 0.3601 - acc: 0.8650 - val_loss: 1.3454 - val_acc: 0.5195\n",
            "Epoch 6/8\n",
            "15131/15131 [==============================] - 91s 6ms/step - loss: 0.2964 - acc: 0.8910 - val_loss: 1.4674 - val_acc: 0.5110\n",
            "Epoch 7/8\n",
            "15131/15131 [==============================] - 90s 6ms/step - loss: 0.2442 - acc: 0.9116 - val_loss: 1.6136 - val_acc: 0.5078\n",
            "Epoch 8/8\n",
            "15131/15131 [==============================] - 90s 6ms/step - loss: 0.2072 - acc: 0.9276 - val_loss: 1.7494 - val_acc: 0.5072\n",
            "1869/1869 [==============================] - 0s 169us/step\n",
            "Test score: 1.1245573720809545\n",
            "Test accuracy: 0.5366506209151511\n"
          ],
          "name": "stdout"
        }
      ]
    },
    {
      "cell_type": "code",
      "metadata": {
        "id": "xs8bRLLdGY2q",
        "colab_type": "code",
        "colab": {}
      },
      "source": [
        "y_pred = (model.predict(x_test) + model2.predict(x_test) + model3.predict(x_test))/3"
      ],
      "execution_count": 0,
      "outputs": []
    },
    {
      "cell_type": "code",
      "metadata": {
        "id": "kOPsv_eHGpif",
        "colab_type": "code",
        "colab": {
          "base_uri": "https://localhost:8080/",
          "height": 136
        },
        "outputId": "4cc89379-716e-44c9-aaa3-f0cd24f38de2"
      },
      "source": [
        "y_pred"
      ],
      "execution_count": 15,
      "outputs": [
        {
          "output_type": "execute_result",
          "data": {
            "text/plain": [
              "array([[0.00555012, 0.7136476 , 0.19501954],\n",
              "       [0.01518719, 0.22893906, 0.7154278 ],\n",
              "       [0.57976776, 0.4512259 , 0.01297277],\n",
              "       ...,\n",
              "       [0.44231915, 0.54875046, 0.07104179],\n",
              "       [0.98172045, 0.01267728, 0.003672  ],\n",
              "       [0.9811373 , 0.01804602, 0.00617455]], dtype=float32)"
            ]
          },
          "metadata": {
            "tags": []
          },
          "execution_count": 15
        }
      ]
    },
    {
      "cell_type": "code",
      "metadata": {
        "id": "ZgKC2aBbMnC8",
        "colab_type": "code",
        "colab": {}
      },
      "source": [
        "y_pred_ = [np.argmax(i) for i in y_pred]\n",
        "y_test_ = [np.argmax(i) for i in y_test]\n",
        "\n",
        "from sklearn.metrics import accuracy_score, confusion_matrix, precision_score, recall_score\n",
        "ac = accuracy_score(y_test_, y_pred_)\n",
        "cm = confusion_matrix(y_test_, y_pred_)\n",
        "# p = precision_score(y_test_, y_pred_)"
      ],
      "execution_count": 0,
      "outputs": []
    },
    {
      "cell_type": "code",
      "metadata": {
        "id": "GRYzhuY1PRs_",
        "colab_type": "code",
        "colab": {
          "base_uri": "https://localhost:8080/",
          "height": 34
        },
        "outputId": "1aa1a906-e5cc-4db5-937c-bd22b54c7962"
      },
      "source": [
        "ac"
      ],
      "execution_count": 18,
      "outputs": [
        {
          "output_type": "execute_result",
          "data": {
            "text/plain": [
              "0.5248796147672552"
            ]
          },
          "metadata": {
            "tags": []
          },
          "execution_count": 18
        }
      ]
    },
    {
      "cell_type": "code",
      "metadata": {
        "id": "9mppI8BvPWRM",
        "colab_type": "code",
        "colab": {
          "base_uri": "https://localhost:8080/",
          "height": 68
        },
        "outputId": "507f7b3c-0447-485d-cfae-d60cd6be1e0c"
      },
      "source": [
        "cm"
      ],
      "execution_count": 19,
      "outputs": [
        {
          "output_type": "execute_result",
          "data": {
            "text/plain": [
              "array([[312, 160,  61],\n",
              "       [194, 349, 211],\n",
              "       [ 76, 186, 320]])"
            ]
          },
          "metadata": {
            "tags": []
          },
          "execution_count": 19
        }
      ]
    },
    {
      "cell_type": "code",
      "metadata": {
        "id": "FzJ_RQ7CPaTn",
        "colab_type": "code",
        "colab": {}
      },
      "source": [
        ""
      ],
      "execution_count": 0,
      "outputs": []
    }
  ]
}